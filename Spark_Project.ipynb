{
  "cells": [
    {
      "cell_type": "markdown",
      "metadata": {
        "id": "mNCRvuEUDpUx"
      },
      "source": [
        "# Install spark and import libraries"
      ]
    },
    {
      "cell_type": "code",
      "execution_count": null,
      "metadata": {
        "colab": {
          "base_uri": "https://localhost:8080/"
        },
        "id": "CRIqeDHNm15L",
        "outputId": "ed65225c-5ab4-4091-9ea6-357a15bff7f3"
      },
      "outputs": [
        {
          "name": "stdout",
          "output_type": "stream",
          "text": [
            "Looking in indexes: https://pypi.org/simple, https://us-python.pkg.dev/colab-wheels/public/simple/\n",
            "Collecting pyspark\n",
            "  Downloading pyspark-3.3.1.tar.gz (281.4 MB)\n",
            "\u001b[2K     \u001b[90m━━━━━━━━━━━━━━━━━━━━━━━━━━━━━━━━━━━━━━━\u001b[0m \u001b[32m281.4/281.4 MB\u001b[0m \u001b[31m3.8 MB/s\u001b[0m eta \u001b[36m0:00:00\u001b[0m\n",
            "\u001b[?25h  Preparing metadata (setup.py) ... \u001b[?25l\u001b[?25hdone\n",
            "Collecting py4j==0.10.9.5\n",
            "  Downloading py4j-0.10.9.5-py2.py3-none-any.whl (199 kB)\n",
            "\u001b[2K     \u001b[90m━━━━━━━━━━━━━━━━━━━━━━━━━━━━━━━━━━━━━━\u001b[0m \u001b[32m199.7/199.7 KB\u001b[0m \u001b[31m13.2 MB/s\u001b[0m eta \u001b[36m0:00:00\u001b[0m\n",
            "\u001b[?25hBuilding wheels for collected packages: pyspark\n",
            "  Building wheel for pyspark (setup.py) ... \u001b[?25l\u001b[?25hdone\n",
            "  Created wheel for pyspark: filename=pyspark-3.3.1-py2.py3-none-any.whl size=281845512 sha256=c5c80673e26bff991e9215b8db7ec90b4cd4b69fee9d5bd604c045c4d8453e5a\n",
            "  Stored in directory: /root/.cache/pip/wheels/43/dc/11/ec201cd671da62fa9c5cc77078235e40722170ceba231d7598\n",
            "Successfully built pyspark\n",
            "Installing collected packages: py4j, pyspark\n",
            "Successfully installed py4j-0.10.9.5 pyspark-3.3.1\n"
          ]
        }
      ],
      "source": [
        "!pip install pyspark"
      ]
    },
    {
      "cell_type": "code",
      "execution_count": null,
      "metadata": {
        "id": "5WZsxevTDuD7"
      },
      "outputs": [],
      "source": [
        "import pyspark\n",
        "import urllib.parse\n",
        "import requests\n",
        "import os\n",
        "from pyspark.sql.types import *\n",
        "import pyspark.sql.functions as F\n",
        "import seaborn as sns\n",
        "from pyspark.sql.window import Window\n",
        "from pyspark.ml.feature import OneHotEncoder  #int -> dummy\n",
        "from pyspark.ml.feature import VectorAssembler #build a vector from columns\n",
        "from pyspark.ml.pipeline import Pipeline \n",
        "from pyspark.ml.regression import LinearRegression"
      ]
    },
    {
      "cell_type": "code",
      "execution_count": null,
      "metadata": {
        "id": "uZ8jp94gDwrb"
      },
      "outputs": [],
      "source": [
        "spark = pyspark.sql.SparkSession.builder.getOrCreate()"
      ]
    },
    {
      "cell_type": "code",
      "execution_count": null,
      "metadata": {
        "colab": {
          "base_uri": "https://localhost:8080/",
          "height": 216
        },
        "id": "tVlhjxOTDyrH",
        "outputId": "6d4edb49-5fe8-4450-d902-856b2c60906d"
      },
      "outputs": [
        {
          "data": {
            "text/html": [
              "\n",
              "            <div>\n",
              "                <p><b>SparkSession - in-memory</b></p>\n",
              "                \n",
              "        <div>\n",
              "            <p><b>SparkContext</b></p>\n",
              "\n",
              "            <p><a href=\"http://ff502b96503f:4040\">Spark UI</a></p>\n",
              "\n",
              "            <dl>\n",
              "              <dt>Version</dt>\n",
              "                <dd><code>v3.3.1</code></dd>\n",
              "              <dt>Master</dt>\n",
              "                <dd><code>local[*]</code></dd>\n",
              "              <dt>AppName</dt>\n",
              "                <dd><code>pyspark-shell</code></dd>\n",
              "            </dl>\n",
              "        </div>\n",
              "        \n",
              "            </div>\n",
              "        "
            ],
            "text/plain": [
              "<pyspark.sql.session.SparkSession at 0x7fc3da6230a0>"
            ]
          },
          "execution_count": 4,
          "metadata": {},
          "output_type": "execute_result"
        }
      ],
      "source": [
        "spark #check spark session"
      ]
    },
    {
      "cell_type": "markdown",
      "metadata": {
        "id": "aN2cdf4VEEn6"
      },
      "source": [
        "# Data Collection"
      ]
    },
    {
      "cell_type": "markdown",
      "metadata": {
        "id": "xjil51dTa3bG"
      },
      "source": [
        "## Download data from github and save to file system"
      ]
    },
    {
      "cell_type": "code",
      "execution_count": null,
      "metadata": {
        "id": "8DtB2wQvEVc_"
      },
      "outputs": [],
      "source": [
        "linkSource = \"https://raw.githubusercontent.com/rvm-courses/GasPrices/master/\"\n",
        "fromYear=2019\n",
        "toYear=2021\n",
        "mainFile=\"Prix*.csv.gz\"\n",
        "otherFiles=[\"Stations2022.csv.gz\",\"Services2022.csv.gz\"]\n",
        "directory=\"Data\""
      ]
    },
    {
      "cell_type": "code",
      "execution_count": null,
      "metadata": {
        "id": "JqYewrWXPtRP"
      },
      "outputs": [],
      "source": [
        "def downloadFile(filename,linkSource,targetDirectory):\n",
        "  '''\n",
        "  download filename from website (linksource) to the target directory\n",
        "  '''\n",
        "  url=urllib.parse.urljoin(linkSource, filename)\n",
        "  targetFile= os.path.join(targetDirectory,filename)\n",
        "\n",
        "  with open(targetFile, \"wb\") as f:\n",
        "    r = requests.get(url)\n",
        "    f.write(r.content)"
      ]
    },
    {
      "cell_type": "code",
      "execution_count": null,
      "metadata": {
        "id": "Lkgz3UroN0-2"
      },
      "outputs": [],
      "source": [
        "def downloadData():\n",
        "  '''\n",
        "  Dowload all the files specified: prices files for certain years and stations and services in 2022\n",
        "  '''\n",
        "  targetDirectory=os.path.join(os.getcwd(),directory)\n",
        "  if not os.path.exists(targetDirectory): \n",
        "    os.makedirs(targetDirectory)\n",
        "  #download Price files\n",
        "  for year in range(fromYear,toYear+1):\n",
        "    filename=mainFile.replace(\"*\",str(year))\n",
        "    downloadFile(filename,linkSource,targetDirectory)\n",
        "\n",
        "  #download Other files\n",
        "  for filename in otherFiles:\n",
        "    downloadFile(filename,linkSource,targetDirectory)"
      ]
    },
    {
      "cell_type": "code",
      "execution_count": null,
      "metadata": {
        "colab": {
          "base_uri": "https://localhost:8080/"
        },
        "id": "OaCEqp1zGalC",
        "outputId": "22d1b941-28a1-48e7-fcdc-bd48a29670ee"
      },
      "outputs": [
        {
          "name": "stdout",
          "output_type": "stream",
          "text": [
            "Prix2019.csv.gz  Prix2021.csv.gz      Stations2022.csv.gz\n",
            "Prix2020.csv.gz  Services2022.csv.gz\n"
          ]
        }
      ],
      "source": [
        "# Download files and show directory\n",
        "downloadData()\n",
        "!ls ./Data"
      ]
    },
    {
      "cell_type": "markdown",
      "metadata": {
        "id": "FlBPqp18mxzm"
      },
      "source": [
        "## Import data in to spark"
      ]
    },
    {
      "cell_type": "code",
      "execution_count": null,
      "metadata": {
        "id": "pTVKahT8XN9o"
      },
      "outputs": [],
      "source": [
        "# Manually create schema\n",
        "priceFiles=[\"Data/Prix*.csv.gz\".replace(\"*\",str(year)) for year in range(fromYear,toYear+1)]\n",
        "schema = StructType() \\\n",
        "      .add(\"IdPDV\",IntegerType(),True) \\\n",
        "      .add(\"Zipcode\",IntegerType(),True) \\\n",
        "      .add(\"PopType\",StringType(),True) \\\n",
        "      .add(\"Lat\",DoubleType(),True) \\\n",
        "      .add(\"Long\",DoubleType(),True) \\\n",
        "      .add(\"Date\",TimestampType(),True) \\\n",
        "      .add(\"IdGas\",IntegerType(),True)\\\n",
        "      .add(\"LabGas\",StringType(),True)\\\n",
        "      .add(\"Price\",DoubleType(),True) \\\n",
        "#import the data      \n",
        "prices_ddf_raw = spark.read.csv(priceFiles, sep  = ';', header=False,schema=schema)"
      ]
    },
    {
      "cell_type": "code",
      "execution_count": null,
      "metadata": {
        "colab": {
          "base_uri": "https://localhost:8080/"
        },
        "id": "7fn8dmzpZCJk",
        "outputId": "7d8c1154-6f01-4f7b-bdf8-33b0ad777ef2"
      },
      "outputs": [
        {
          "name": "stdout",
          "output_type": "stream",
          "text": [
            "+-------+-------+-------+---------+--------+-------------------+-----+------+------+\n",
            "|  IdPDV|Zipcode|PopType|      Lat|    Long|               Date|IdGas|LabGas| Price|\n",
            "+-------+-------+-------+---------+--------+-------------------+-----+------+------+\n",
            "|1000001|   1000|      R|4620114.0|519791.0|2021-01-02 15:13:25|    1|Gazole|1252.0|\n",
            "|1000001|   1000|      R|4620114.0|519791.0|2021-01-04 09:28:43|    1|Gazole|1268.0|\n",
            "|1000001|   1000|      R|4620114.0|519791.0|2021-01-06 09:29:19|    1|Gazole|1268.0|\n",
            "|1000001|   1000|      R|4620114.0|519791.0|2021-01-06 15:45:51|    1|Gazole|1268.0|\n",
            "|1000001|   1000|      R|4620114.0|519791.0|2021-01-07 09:44:40|    1|Gazole|1273.0|\n",
            "+-------+-------+-------+---------+--------+-------------------+-----+------+------+\n",
            "only showing top 5 rows\n",
            "\n",
            "root\n",
            " |-- IdPDV: integer (nullable = true)\n",
            " |-- Zipcode: integer (nullable = true)\n",
            " |-- PopType: string (nullable = true)\n",
            " |-- Lat: double (nullable = true)\n",
            " |-- Long: double (nullable = true)\n",
            " |-- Date: timestamp (nullable = true)\n",
            " |-- IdGas: integer (nullable = true)\n",
            " |-- LabGas: string (nullable = true)\n",
            " |-- Price: double (nullable = true)\n",
            "\n"
          ]
        }
      ],
      "source": [
        "#show that data is imported correctly\n",
        "prices_ddf_raw.show(5)\n",
        "prices_ddf_raw.printSchema()"
      ]
    },
    {
      "cell_type": "markdown",
      "metadata": {
        "id": "oB5O8v7DEEzH"
      },
      "source": [
        "# Prepare Data"
      ]
    },
    {
      "cell_type": "markdown",
      "metadata": {
        "id": "iM6JMaspnKFh"
      },
      "source": [
        "## Add and change variables"
      ]
    },
    {
      "cell_type": "code",
      "execution_count": null,
      "metadata": {
        "colab": {
          "base_uri": "https://localhost:8080/"
        },
        "id": "D2iJqhzVEV79",
        "outputId": "d809a43a-31b0-4c73-daf7-eb3f3c41b306"
      },
      "outputs": [
        {
          "data": {
            "text/plain": [
              "DataFrame[IdPDV: int, Zipcode: int, PopType: string, Lat: double, Long: double, Date: timestamp, IdGas: int, LabGas: string, Price: double, Year: int, Month: int, Week: int, Day: date]"
            ]
          },
          "execution_count": 11,
          "metadata": {},
          "output_type": "execute_result"
        }
      ],
      "source": [
        "prices_ddf=prices_ddf_raw.withColumn(\"Year\", F.year(F.col(\"Date\")))\\\n",
        "    .withColumn(\"Month\", F.month(F.col(\"Date\")))\\\n",
        "    .withColumn(\"Week\", F.weekofyear(F.col(\"Date\")))\\\n",
        "    .withColumn(\"Lat\",F.col(\"Lat\")/100000)\\\n",
        "    .withColumn(\"Long\",F.col(\"Long\")/100000)\\\n",
        "    .withColumn(\"Day\", F.to_date(F.col(\"Date\")))\n",
        "prices_ddf.cache() "
      ]
    },
    {
      "cell_type": "code",
      "execution_count": null,
      "metadata": {
        "colab": {
          "base_uri": "https://localhost:8080/"
        },
        "id": "abA_VAM76VPa",
        "outputId": "e4965d18-56a2-4410-b6a6-c428b61bb6e8"
      },
      "outputs": [
        {
          "name": "stdout",
          "output_type": "stream",
          "text": [
            "+-------+-------+-------+--------+-------+-------------------+-----+------+------+----+-----+----+----------+\n",
            "|  IdPDV|Zipcode|PopType|     Lat|   Long|               Date|IdGas|LabGas| Price|Year|Month|Week|       Day|\n",
            "+-------+-------+-------+--------+-------+-------------------+-----+------+------+----+-----+----+----------+\n",
            "|1000001|   1000|      R|46.20114|5.19791|2021-01-02 15:13:25|    1|Gazole|1252.0|2021|    1|  53|2021-01-02|\n",
            "|1000001|   1000|      R|46.20114|5.19791|2021-01-04 09:28:43|    1|Gazole|1268.0|2021|    1|   1|2021-01-04|\n",
            "|1000001|   1000|      R|46.20114|5.19791|2021-01-06 09:29:19|    1|Gazole|1268.0|2021|    1|   1|2021-01-06|\n",
            "|1000001|   1000|      R|46.20114|5.19791|2021-01-06 15:45:51|    1|Gazole|1268.0|2021|    1|   1|2021-01-06|\n",
            "|1000001|   1000|      R|46.20114|5.19791|2021-01-07 09:44:40|    1|Gazole|1273.0|2021|    1|   1|2021-01-07|\n",
            "|1000001|   1000|      R|46.20114|5.19791|2021-01-08 10:20:52|    1|Gazole|1274.0|2021|    1|   1|2021-01-08|\n",
            "|1000001|   1000|      R|46.20114|5.19791|2021-01-11 09:32:46|    1|Gazole|1277.0|2021|    1|   2|2021-01-11|\n",
            "|1000001|   1000|      R|46.20114|5.19791|2021-01-12 14:40:45|    1|Gazole|1277.0|2021|    1|   2|2021-01-12|\n",
            "|1000001|   1000|      R|46.20114|5.19791|2021-01-13 15:16:15|    1|Gazole|1277.0|2021|    1|   2|2021-01-13|\n",
            "|1000001|   1000|      R|46.20114|5.19791|2021-01-15 10:31:58|    1|Gazole|1298.0|2021|    1|   2|2021-01-15|\n",
            "+-------+-------+-------+--------+-------+-------------------+-----+------+------+----+-----+----+----------+\n",
            "only showing top 10 rows\n",
            "\n"
          ]
        }
      ],
      "source": [
        "prices_ddf.show(10)"
      ]
    },
    {
      "cell_type": "code",
      "execution_count": null,
      "metadata": {
        "id": "quKDggnzgZpg"
      },
      "outputs": [],
      "source": [
        "prices_ddf.createOrReplaceTempView(\"prices\")"
      ]
    },
    {
      "cell_type": "markdown",
      "metadata": {
        "id": "FWUzvv_inUm7"
      },
      "source": [
        "## Create Price and week index"
      ]
    },
    {
      "cell_type": "code",
      "execution_count": null,
      "metadata": {
        "id": "O6mF8AncRSuw"
      },
      "outputs": [],
      "source": [
        "#using create average daily price using pyspark commands\n",
        "dayPrice_ddf=prices_ddf.groupby(\"Day\")\\\n",
        "        .agg(F.avg(F.col(\"Price\")).alias(\"average\"))"
      ]
    },
    {
      "cell_type": "code",
      "execution_count": null,
      "metadata": {
        "id": "kkyngmRqxu2z"
      },
      "outputs": [],
      "source": [
        "#using create average daily price using sql\n",
        "dayPrice_ddf=spark.sql(\"\"\"\n",
        "SELECT Day, avg(price) as AveragePrice\n",
        "FROM prices\n",
        "GROUP BY Day\n",
        "\"\"\")\n",
        "dayPrice_ddf.createOrReplaceTempView(\"dayprices\")"
      ]
    },
    {
      "cell_type": "code",
      "execution_count": null,
      "metadata": {
        "id": "7KWl-0eONnzt"
      },
      "outputs": [],
      "source": [
        "#using create index using pyspark commands\n",
        "indexprices_ddf=prices_ddf.join(dayPrice_ddf,on=[\"Day\"],how='inner')\\\n",
        "      .withColumn(\"PriceIndex\",100*((F.col(\"Price\")-F.col(\"AveragePrice\"))/F.col(\"AveragePrice\")+1))\n"
      ]
    },
    {
      "cell_type": "code",
      "execution_count": null,
      "metadata": {
        "id": "4nK7Bt7-ywuu"
      },
      "outputs": [],
      "source": [
        "#using create index using sql commands\n",
        "indexprices_ddf= spark.sql(\"\"\"\n",
        "SELECT A.*, 100*((Price-AveragePrice)/AveragePrice +1) as priceIndex\n",
        "FROM prices A\n",
        "LEFT JOIN dayprices B\n",
        "ON A.Day = B.Day\n",
        "ORDER BY Day DESC\n",
        "\"\"\")\n",
        "indexprices_ddf.createOrReplaceTempView(\"indexprices\")"
      ]
    },
    {
      "cell_type": "code",
      "execution_count": null,
      "metadata": {
        "colab": {
          "base_uri": "https://localhost:8080/"
        },
        "id": "bJc7xGJgF3ni",
        "outputId": "b845e195-32c4-4941-a1f2-867889ef6b21"
      },
      "outputs": [
        {
          "name": "stdout",
          "output_type": "stream",
          "text": [
            "+-------+-------+-------+------+-----+-------------------+-----+------+------+----+-----+----+----------+------------------+\n",
            "|  IdPDV|Zipcode|PopType|   Lat| Long|               Date|IdGas|LabGas| Price|Year|Month|Week|       Day|        priceIndex|\n",
            "+-------+-------+-------+------+-----+-------------------+-----+------+------+----+-----+----+----------+------------------+\n",
            "|1000008|   1000|      R|46.199|5.241|2021-12-31 00:25:00|    1|Gazole|1520.0|2021|   12|  52|2021-12-31| 103.1026724216463|\n",
            "|1000012|   1000|      R|46.201|  5.2|2021-12-31 00:01:00|    3|   E85| 719.0|2021|   12|  52|2021-12-31| 48.77027728366032|\n",
            "|1000008|   1000|      R|46.199|5.241|2021-12-31 00:25:00|    2|  SP95|1609.0|2021|   12|  52|2021-12-31|109.13960521475585|\n",
            "|1000008|   1000|      R|46.199|5.241|2021-12-31 00:25:00|    5|   E10|1577.0|2021|   12|  52|2021-12-31|106.96902263745804|\n",
            "|1000008|   1000|      R|46.199|5.241|2021-12-31 00:25:00|    6|  SP98|1652.0|2021|   12|  52|2021-12-31|112.05632555299981|\n",
            "+-------+-------+-------+------+-----+-------------------+-----+------+------+----+-----+----+----------+------------------+\n",
            "only showing top 5 rows\n",
            "\n"
          ]
        }
      ],
      "source": [
        "#test to see if index works as expected\n",
        "indexprices_ddf.show(5)"
      ]
    },
    {
      "cell_type": "code",
      "execution_count": null,
      "metadata": {
        "id": "Hec2KN7XNniP"
      },
      "outputs": [],
      "source": [
        "#determine the first day in order to set the week index from that day\n",
        "firstDay = prices_ddf.agg({\"Date\": \"min\"}).collect()[0]"
      ]
    },
    {
      "cell_type": "code",
      "execution_count": null,
      "metadata": {
        "id": "q83CFjwJd2rW"
      },
      "outputs": [],
      "source": [
        "#Create weekindex using SQL\n",
        "indexprices_ddf=spark.sql(\"\"\"\n",
        "SELECT indexprices.*, ceil(datediff(Day,FirstDay)/7+1) AS weekIndex\n",
        "FROM indexprices,(SELECT min(Day) as FirstDay\n",
        "                  FROM indexprices)\n",
        "ORDER BY Day DESC\n",
        "\"\"\")\n",
        "indexprices_ddf.createOrReplaceTempView(\"indexprices\")"
      ]
    },
    {
      "cell_type": "code",
      "execution_count": null,
      "metadata": {
        "colab": {
          "base_uri": "https://localhost:8080/"
        },
        "id": "J7S0WbKzoXeE",
        "outputId": "62246404-f688-4cb0-d7e8-27f26d3361a9"
      },
      "outputs": [
        {
          "name": "stdout",
          "output_type": "stream",
          "text": [
            "+-------+-------+-------+------+-----+-------------------+-----+------+------+----+-----+----+----------+------------------+---------+\n",
            "|  IdPDV|Zipcode|PopType|   Lat| Long|               Date|IdGas|LabGas| Price|Year|Month|Week|       Day|        priceIndex|weekIndex|\n",
            "+-------+-------+-------+------+-----+-------------------+-----+------+------+----+-----+----+----------+------------------+---------+\n",
            "|1000008|   1000|      R|46.199|5.241|2021-12-31 00:25:00|    6|  SP98|1652.0|2021|   12|  52|2021-12-31|112.05632555299981|      158|\n",
            "|1000008|   1000|      R|46.199|5.241|2021-12-31 00:25:00|    2|  SP95|1609.0|2021|   12|  52|2021-12-31|109.13960521475585|      158|\n",
            "|1000008|   1000|      R|46.199|5.241|2021-12-31 00:25:00|    5|   E10|1577.0|2021|   12|  52|2021-12-31|106.96902263745804|      158|\n",
            "|1000008|   1000|      R|46.199|5.241|2021-12-31 00:25:00|    1|Gazole|1520.0|2021|   12|  52|2021-12-31| 103.1026724216463|      158|\n",
            "|1000012|   1000|      R|46.201|  5.2|2021-12-31 00:01:00|    3|   E85| 719.0|2021|   12|  52|2021-12-31| 48.77027728366032|      158|\n",
            "+-------+-------+-------+------+-----+-------------------+-----+------+------+----+-----+----+----------+------------------+---------+\n",
            "only showing top 5 rows\n",
            "\n"
          ]
        }
      ],
      "source": [
        "indexprices_ddf.show(5)"
      ]
    },
    {
      "cell_type": "markdown",
      "metadata": {
        "id": "DAfMxVQCEE-j"
      },
      "source": [
        "# Visualize Data"
      ]
    },
    {
      "cell_type": "code",
      "execution_count": null,
      "metadata": {
        "id": "eWJ330dgEWbM"
      },
      "outputs": [],
      "source": [
        "#Collect data necessary for plotting\n",
        "dataPriceVisualization=spark.sql(\"\"\"\n",
        "SELECT  LabGas,weekIndex, avg(price) as AveragePrice\n",
        "FROM indexprices\n",
        "GROUP BY weekIndex, LabGas \n",
        "\"\"\").toPandas()"
      ]
    },
    {
      "cell_type": "code",
      "execution_count": null,
      "metadata": {
        "colab": {
          "base_uri": "https://localhost:8080/",
          "height": 300
        },
        "id": "Wl_5veoD99Aq",
        "outputId": "d55206dd-057b-438c-a77a-e9b5d375a067"
      },
      "outputs": [
        {
          "data": {
            "text/plain": [
              "<matplotlib.axes._subplots.AxesSubplot at 0x7fc3d9902610>"
            ]
          },
          "execution_count": 23,
          "metadata": {},
          "output_type": "execute_result"
        },
        {
          "data": {
            "image/png": "[encoded data removed]",
            "text/plain": [
              "<Figure size 432x288 with 1 Axes>"
            ]
          },
          "metadata": {},
          "output_type": "display_data"
        }
      ],
      "source": [
        "#Create simple seaborn line plot\n",
        "sns.lineplot(x = \"weekIndex\", y = \"AveragePrice\", hue = \"LabGas\", data = dataPriceVisualization)"
      ]
    },
    {
      "cell_type": "markdown",
      "metadata": {
        "id": "EJ-1Kx0VEFI-"
      },
      "source": [
        "# Model Price evolution"
      ]
    },
    {
      "cell_type": "code",
      "execution_count": null,
      "metadata": {
        "colab": {
          "base_uri": "https://localhost:8080/"
        },
        "id": "gCwF6nDBpsmA",
        "outputId": "306732a9-aabf-48e4-9150-1ae6691fa8d3"
      },
      "outputs": [
        {
          "name": "stdout",
          "output_type": "stream",
          "text": [
            "+-----------------------+---------------------+-----------------------+\n",
            "|count(DISTINCT PopType)|count(DISTINCT IdGas)|count(DISTINCT ZipCode)|\n",
            "+-----------------------+---------------------+-----------------------+\n",
            "|                      3|                    6|                   4396|\n",
            "+-----------------------+---------------------+-----------------------+\n",
            "\n"
          ]
        }
      ],
      "source": [
        "# check which variables could function as explanatory dummy variables\n",
        "indexprices_ddf.select(F.countDistinct(\"PopType\"),\n",
        "                       F.countDistinct(\"IdGas\"),\n",
        "                       F.countDistinct(\"ZipCode\"),).show()"
      ]
    },
    {
      "cell_type": "markdown",
      "metadata": {
        "id": "iUm9BTwhpLC1"
      },
      "source": [
        "We do not use zipcodes since they have to many distinct values. Instead we will only consider Gas Id"
      ]
    },
    {
      "cell_type": "code",
      "execution_count": null,
      "metadata": {
        "colab": {
          "base_uri": "https://localhost:8080/"
        },
        "id": "sd7Xo3flrGDk",
        "outputId": "66dd0725-ff0e-47a2-fc95-633f48a36a94"
      },
      "outputs": [
        {
          "name": "stdout",
          "output_type": "stream",
          "text": [
            "+-------+-----+----------+------------+\n",
            "|  IdPDV|IdGas|       Day|count(price)|\n",
            "+-------+-----+----------+------------+\n",
            "|1000001|    1|2019-01-04|           1|\n",
            "|1000001|    1|2019-01-07|           1|\n",
            "|1000001|    1|2019-01-10|           1|\n",
            "|1000001|    1|2019-01-17|           1|\n",
            "|1000001|    1|2019-01-26|           2|\n",
            "|1000001|    1|2019-02-01|           1|\n",
            "|1000001|    1|2019-02-08|           1|\n",
            "|1000001|    1|2019-02-11|           1|\n",
            "|1000001|    1|2019-02-19|           1|\n",
            "|1000001|    1|2019-02-20|           1|\n",
            "|1000001|    1|2019-02-22|           2|\n",
            "|1000001|    1|2019-02-25|           1|\n",
            "|1000001|    1|2019-02-28|           1|\n",
            "|1000001|    1|2019-03-09|           1|\n",
            "|1000001|    1|2019-03-11|           1|\n",
            "|1000001|    1|2019-03-13|           1|\n",
            "|1000001|    1|2019-03-26|           1|\n",
            "|1000001|    1|2019-03-27|           1|\n",
            "|1000001|    1|2019-03-28|           1|\n",
            "|1000001|    1|2019-03-29|           1|\n",
            "+-------+-----+----------+------------+\n",
            "only showing top 20 rows\n",
            "\n"
          ]
        }
      ],
      "source": [
        "#We show that we do not have a price for every day at every station\n",
        "spark.sql(\"\"\"\n",
        "SELECT IdPDV,IdGas,Day,count(price)\n",
        "FROM indexprices\n",
        "GROUP BY IdPDV, IdGas, Day\n",
        "\"\"\").show()"
      ]
    },
    {
      "cell_type": "markdown",
      "metadata": {
        "id": "8jjx-GB2p0Cz"
      },
      "source": [
        "Since we do not have a price at every station for every day, we will instead model the average prices at each day (seperated by gas type)"
      ]
    },
    {
      "cell_type": "code",
      "execution_count": null,
      "metadata": {
        "colab": {
          "base_uri": "https://localhost:8080/"
        },
        "id": "nCHQHOytub6x",
        "outputId": "983f7e8f-3133-42a5-d73f-d54af94a516d"
      },
      "outputs": [
        {
          "name": "stdout",
          "output_type": "stream",
          "text": [
            "+-----+----------+------------------+\n",
            "|IdGas|       Day|     NationalPrice|\n",
            "+-----+----------+------------------+\n",
            "|    1|2021-12-31|1593.6616954474098|\n",
            "|    2|2021-12-31| 1651.065934065934|\n",
            "|    5|2021-12-31| 1658.802748585287|\n",
            "|    6|2021-12-31|1759.1410788381743|\n",
            "|    3|2021-12-31| 733.6639231824417|\n",
            "|    4|2021-12-31| 912.7977528089888|\n",
            "|    6|2021-12-30|1735.4160317986089|\n",
            "|    1|2021-12-30|1571.5263312739041|\n",
            "|    3|2021-12-30| 727.7678227360308|\n",
            "|    5|2021-12-30|1640.8395061728395|\n",
            "|    2|2021-12-30|1640.7110266159696|\n",
            "|    4|2021-12-30| 907.6163410301954|\n",
            "|    2|2021-12-29|1639.1112469437653|\n",
            "|    1|2021-12-29|1575.5675337668833|\n",
            "|    5|2021-12-29|1645.9733937163883|\n",
            "|    6|2021-12-29|1743.7292439372325|\n",
            "|    3|2021-12-29| 725.4872727272727|\n",
            "|    4|2021-12-29| 909.6594982078853|\n",
            "|    1|2021-12-28|1558.1583563016789|\n",
            "|    3|2021-12-28|  724.993699369937|\n",
            "+-----+----------+------------------+\n",
            "only showing top 20 rows\n",
            "\n"
          ]
        }
      ],
      "source": [
        "#Show Example ot target variable Price per gas type\n",
        "regression_ddf=spark.sql(\"\"\"\n",
        "SELECT IdGas,Day,avg(price) as NationalPrice\n",
        "FROM indexprices\n",
        "GROUP BY IdGas, Day\n",
        "\"\"\")\n",
        "regression_ddf.show()"
      ]
    },
    {
      "cell_type": "code",
      "execution_count": null,
      "metadata": {
        "colab": {
          "base_uri": "https://localhost:8080/"
        },
        "id": "k9rXOEXwOGHn",
        "outputId": "8681f15b-0c3e-455b-b180-d040249517c0"
      },
      "outputs": [
        {
          "name": "stdout",
          "output_type": "stream",
          "text": [
            "+-----+----------+------------------+------------------+------------------+------------------+-----+-----+-----+-----+-----+-----+------+------+------+------+------+------+\n",
            "|IdGas|       Day|     NationalPrice|             lag_1|             lag_2|             lag_3|lag_4|lag_5|lag_6|lag_7|lag_8|lag_9|lag_10|lag_11|lag_12|lag_13|lag_14|lag_15|\n",
            "+-----+----------+------------------+------------------+------------------+------------------+-----+-----+-----+-----+-----+-----+------+------+------+------+------+------+\n",
            "| null|      null|              null|              null|              null|              null| null| null| null| null| null| null|  null|  null|  null|  null|  null|  null|\n",
            "|    1|2019-01-01|1424.2279582366589|              null|              null|              null| null| null| null| null| null| null|  null|  null|  null|  null|  null|  null|\n",
            "|    1|2019-01-02|1394.9234472797305|1424.2279582366589|              null|              null| null| null| null| null| null| null|  null|  null|  null|  null|  null|  null|\n",
            "|    1|2019-01-03| 1395.504732607667|1394.9234472797305|1424.2279582366589|              null| null| null| null| null| null| null|  null|  null|  null|  null|  null|  null|\n",
            "|    1|2019-01-04|1386.5670557146002| 1395.504732607667|1394.9234472797305|1424.2279582366589| null| null| null| null| null| null|  null|  null|  null|  null|  null|  null|\n",
            "+-----+----------+------------------+------------------+------------------+------------------+-----+-----+-----+-----+-----+-----+------+------+------+------+------+------+\n",
            "only showing top 5 rows\n",
            "\n",
            "+-----+----------+------------------+------------------+------------------+------------------+------------------+------------------+------------------+------------------+------------------+------------------+------------------+------------------+------------------+------------------+------------------+------------------+\n",
            "|IdGas|       Day|     NationalPrice|             lag_1|             lag_2|             lag_3|             lag_4|             lag_5|             lag_6|             lag_7|             lag_8|             lag_9|            lag_10|            lag_11|            lag_12|            lag_13|            lag_14|            lag_15|\n",
            "+-----+----------+------------------+------------------+------------------+------------------+------------------+------------------+------------------+------------------+------------------+------------------+------------------+------------------+------------------+------------------+------------------+------------------+\n",
            "|    1|2019-01-16|  1419.00581915846|1413.6034643322778|1407.1589618815897| 1421.156215621562| 1412.358559658224|  1401.01008492569|1399.1258158901644| 1393.984145764316| 1391.522306108442| 1388.583114150447|1407.5541222658442|1393.2947647951441|1386.5670557146002| 1395.504732607667|1394.9234472797305|1424.2279582366589|\n",
            "|    1|2019-01-17| 1421.542105263158|  1419.00581915846|1413.6034643322778|1407.1589618815897| 1421.156215621562| 1412.358559658224|  1401.01008492569|1399.1258158901644| 1393.984145764316| 1391.522306108442| 1388.583114150447|1407.5541222658442|1393.2947647951441|1386.5670557146002| 1395.504732607667|1394.9234472797305|\n",
            "|    1|2019-01-18|1417.5566502463055| 1421.542105263158|  1419.00581915846|1413.6034643322778|1407.1589618815897| 1421.156215621562| 1412.358559658224|  1401.01008492569|1399.1258158901644| 1393.984145764316| 1391.522306108442| 1388.583114150447|1407.5541222658442|1393.2947647951441|1386.5670557146002| 1395.504732607667|\n",
            "|    1|2019-01-19|1425.4860821155185|1417.5566502463055| 1421.542105263158|  1419.00581915846|1413.6034643322778|1407.1589618815897| 1421.156215621562| 1412.358559658224|  1401.01008492569|1399.1258158901644| 1393.984145764316| 1391.522306108442| 1388.583114150447|1407.5541222658442|1393.2947647951441|1386.5670557146002|\n",
            "|    1|2019-01-20|1435.1342357586013|1425.4860821155185|1417.5566502463055| 1421.542105263158|  1419.00581915846|1413.6034643322778|1407.1589618815897| 1421.156215621562| 1412.358559658224|  1401.01008492569|1399.1258158901644| 1393.984145764316| 1391.522306108442| 1388.583114150447|1407.5541222658442|1393.2947647951441|\n",
            "+-----+----------+------------------+------------------+------------------+------------------+------------------+------------------+------------------+------------------+------------------+------------------+------------------+------------------+------------------+------------------+------------------+------------------+\n",
            "only showing top 5 rows\n",
            "\n"
          ]
        }
      ],
      "source": [
        "#We create the lags for the OLS using the a window function\n",
        "w = Window().orderBy('IdGas',\"Day\")\n",
        "lagRegression_ddf = regression_ddf\n",
        "for i in range(1, 16): \n",
        "    lagRegression_ddf = lagRegression_ddf.withColumn(f\"lag_{i}\", F.lag(F.col('NationalPrice'), i).over(w))\n",
        "lagRegression_ddf.show(5)\n",
        "lagRegression_ddf=lagRegression_ddf.dropna()\n",
        "lagRegression_ddf.show(5)"
      ]
    },
    {
      "cell_type": "markdown",
      "metadata": {
        "id": "syf2jsn5q28g"
      },
      "source": [
        "As expected the first few variables contain null values since not all lags exists. There we drop all rows with null values"
      ]
    },
    {
      "cell_type": "code",
      "execution_count": null,
      "metadata": {
        "id": "rVj2s5SimGAq"
      },
      "outputs": [],
      "source": [
        "#Create the list with feature names\n",
        "featurecols=[f\"lag_{i}\" for i in range(1,16)]\n",
        "featurecols.append(\"ohe_IdGas\")\n",
        "selectedfeaturecols=[f\"lag_{i}\" for i in range(1,4)]\n",
        "selectedfeaturecols.append(\"ohe_IdGas\")"
      ]
    },
    {
      "cell_type": "markdown",
      "metadata": {
        "id": "iAd95r_mrOvt"
      },
      "source": [
        "We now create the pipeline for our features, this includes the one hot encoding for the gas type as well as the other lags."
      ]
    },
    {
      "cell_type": "code",
      "execution_count": null,
      "metadata": {
        "id": "7z91BIWAl59e"
      },
      "outputs": [],
      "source": [
        "ohegas = OneHotEncoder(inputCol='IdGas',outputCol='ohe_IdGas')\n",
        "featuresselection = VectorAssembler(inputCols=featurecols,outputCol=\"features\")\n",
        "\n",
        "pipeline=Pipeline(stages=[ohegas,featuresselection])"
      ]
    },
    {
      "cell_type": "code",
      "execution_count": null,
      "metadata": {
        "colab": {
          "base_uri": "https://localhost:8080/"
        },
        "id": "F2rrmCSDWksw",
        "outputId": "85a51faa-9802-41f4-9d57-89c0a7babbc2"
      },
      "outputs": [
        {
          "name": "stdout",
          "output_type": "stream",
          "text": [
            "+-----+----------+------------------+------------------+------------------+------------------+------------------+------------------+------------------+------------------+------------------+------------------+------------------+------------------+------------------+------------------+------------------+------------------+-------------+--------------------+\n",
            "|IdGas|       Day|     NationalPrice|             lag_1|             lag_2|             lag_3|             lag_4|             lag_5|             lag_6|             lag_7|             lag_8|             lag_9|            lag_10|            lag_11|            lag_12|            lag_13|            lag_14|            lag_15|    ohe_IdGas|            features|\n",
            "+-----+----------+------------------+------------------+------------------+------------------+------------------+------------------+------------------+------------------+------------------+------------------+------------------+------------------+------------------+------------------+------------------+------------------+-------------+--------------------+\n",
            "|    1|2019-01-16|  1419.00581915846|1413.6034643322778|1407.1589618815897| 1421.156215621562| 1412.358559658224|  1401.01008492569|1399.1258158901644| 1393.984145764316| 1391.522306108442| 1388.583114150447|1407.5541222658442|1393.2947647951441|1386.5670557146002| 1395.504732607667|1394.9234472797305|1424.2279582366589|(6,[1],[1.0])|[1413.60346433227...|\n",
            "|    1|2019-01-17| 1421.542105263158|  1419.00581915846|1413.6034643322778|1407.1589618815897| 1421.156215621562| 1412.358559658224|  1401.01008492569|1399.1258158901644| 1393.984145764316| 1391.522306108442| 1388.583114150447|1407.5541222658442|1393.2947647951441|1386.5670557146002| 1395.504732607667|1394.9234472797305|(6,[1],[1.0])|[1419.00581915846...|\n",
            "|    1|2019-01-18|1417.5566502463055| 1421.542105263158|  1419.00581915846|1413.6034643322778|1407.1589618815897| 1421.156215621562| 1412.358559658224|  1401.01008492569|1399.1258158901644| 1393.984145764316| 1391.522306108442| 1388.583114150447|1407.5541222658442|1393.2947647951441|1386.5670557146002| 1395.504732607667|(6,[1],[1.0])|[1421.54210526315...|\n",
            "|    1|2019-01-19|1425.4860821155185|1417.5566502463055| 1421.542105263158|  1419.00581915846|1413.6034643322778|1407.1589618815897| 1421.156215621562| 1412.358559658224|  1401.01008492569|1399.1258158901644| 1393.984145764316| 1391.522306108442| 1388.583114150447|1407.5541222658442|1393.2947647951441|1386.5670557146002|(6,[1],[1.0])|[1417.55665024630...|\n",
            "|    1|2019-01-20|1435.1342357586013|1425.4860821155185|1417.5566502463055| 1421.542105263158|  1419.00581915846|1413.6034643322778|1407.1589618815897| 1421.156215621562| 1412.358559658224|  1401.01008492569|1399.1258158901644| 1393.984145764316| 1391.522306108442| 1388.583114150447|1407.5541222658442|1393.2947647951441|(6,[1],[1.0])|[1425.48608211551...|\n",
            "+-----+----------+------------------+------------------+------------------+------------------+------------------+------------------+------------------+------------------+------------------+------------------+------------------+------------------+------------------+------------------+------------------+------------------+-------------+--------------------+\n",
            "only showing top 5 rows\n",
            "\n"
          ]
        }
      ],
      "source": [
        "# test the pipeline\n",
        "features=pipeline.fit(lagRegression_ddf).transform(lagRegression_ddf)\n",
        "features.show(5)"
      ]
    },
    {
      "cell_type": "markdown",
      "metadata": {
        "id": "ee1MIgMSrsNR"
      },
      "source": [
        "To the pipeline we can add a linear regression model to perform our pooled OLS"
      ]
    },
    {
      "cell_type": "code",
      "execution_count": null,
      "metadata": {
        "id": "KAJ8DQKPbpTO"
      },
      "outputs": [],
      "source": [
        "regression = LinearRegression(featuresCol='features', labelCol='NationalPrice')\n"
      ]
    },
    {
      "cell_type": "code",
      "execution_count": null,
      "metadata": {
        "id": "57egMPVvdHX4"
      },
      "outputs": [],
      "source": [
        "lrModel=regression.fit(features)"
      ]
    },
    {
      "cell_type": "markdown",
      "metadata": {
        "id": "m0zSiyofr4Dc"
      },
      "source": [
        "We want to evaluate our Model by looking at the OLS Coefficients and the residuals"
      ]
    },
    {
      "cell_type": "code",
      "execution_count": null,
      "metadata": {
        "colab": {
          "base_uri": "https://localhost:8080/"
        },
        "id": "Is2XKH34glo8",
        "outputId": "f4b4e359-bb6c-4d23-ceda-8b3c87aef95a"
      },
      "outputs": [
        {
          "name": "stdout",
          "output_type": "stream",
          "text": [
            "['lag_1', 'lag_2', 'lag_3', 'lag_4', 'lag_5', 'lag_6', 'lag_7', 'lag_8', 'lag_9', 'lag_10', 'lag_11', 'lag_12', 'lag_13', 'lag_14', 'lag_15']\n",
            "Coefficients: [ 0.81850032  0.10469319  0.03161071  0.02561739 -0.03301236 -0.03710143\n",
            "  0.25117274 -0.24166413  0.00568798  0.05904049  0.01324399 -0.04678293\n",
            " -0.04859997  0.25379735 -0.18649252  0.        ]\n",
            "['ohe_IdGas']\n",
            "Coefficients: [ -4.74465665  -2.26827843 -26.98695504 -20.53569466  -2.13756545]\n",
            "Intercept: 47.227518469152166\n"
          ]
        }
      ],
      "source": [
        "# Print the coefficients and intercept for linear regression\n",
        "print(featurecols[:15])\n",
        "print(\"Coefficients: %s\" % str(lrModel.coefficients[:16]))\n",
        "print(featurecols[15:])\n",
        "print(\"Coefficients: %s\" % str(lrModel.coefficients[16:]))\n",
        "print(\"Intercept: %s\" % str(lrModel.intercept))"
      ]
    },
    {
      "cell_type": "markdown",
      "metadata": {
        "id": "Jg8UTPzisA0q"
      },
      "source": [
        "We see that only the first three four lags have a large effect and we will thus consider the model with just these"
      ]
    },
    {
      "cell_type": "code",
      "execution_count": null,
      "metadata": {
        "colab": {
          "background_save": true
        },
        "id": "Xo9Lv-LWs4oe"
      },
      "outputs": [],
      "source": [
        "featuresnames2 = VectorAssembler(inputCols=selectedfeaturecols,outputCol=\"features\")\n",
        "pipeline2=Pipeline(stages=[ohegas,featuresnames2])\n",
        "\n",
        "features2=pipeline2.fit(lagRegression_ddf).transform(lagRegression_ddf)\n",
        "\n",
        "lrModel2=regression.fit(features2)"
      ]
    },
    {
      "cell_type": "code",
      "execution_count": null,
      "metadata": {
        "colab": {
          "background_save": true,
          "base_uri": "https://localhost:8080/"
        },
        "id": "z3IN-_zCtztB",
        "outputId": "33153d30-dbe3-42d5-d847-50147d0986c4"
      },
      "outputs": [
        {
          "name": "stdout",
          "output_type": "stream",
          "text": [
            "['lag_1', 'lag_2', 'lag_3']\n",
            "Coefficients: [0.76197855 0.11599222 0.09140126]\n",
            "['ohe_IdGas']\n",
            "Coefficients: [  0.          -4.77139866  -2.38308153 -27.39304839 -20.72396077\n",
            "  -1.93151247]\n",
            "Intercept: 47.749096631802075\n"
          ]
        }
      ],
      "source": [
        "# Print the coefficients and intercept for linear regression\n",
        "print(selectedfeaturecols[:3])\n",
        "print(\"Coefficients: %s\" % str(lrModel2.coefficients[:3]))\n",
        "print(selectedfeaturecols[3:])\n",
        "print(\"Coefficients: %s\" % str(lrModel2.coefficients[3:]))\n",
        "print(\"Intercept: %s\" % str(lrModel2.intercept))"
      ]
    },
    {
      "cell_type": "code",
      "execution_count": null,
      "metadata": {
        "colab": {
          "background_save": true,
          "base_uri": "https://localhost:8080/"
        },
        "id": "duOXM0CrcJvk",
        "outputId": "ccc12ad0-751a-4fef-b5c2-813387f93eb8"
      },
      "outputs": [
        {
          "name": "stdout",
          "output_type": "stream",
          "text": [
            "numIterations: 37\n",
            "objectiveHistory: [0.4999999999999991, 0.007405960011081625, 0.006097949685947235, 0.0020584884278465054, 0.0020110792918188736, 0.0019243276982372493, 0.0016420826928653653, 0.0016305716601507925, 0.0016080832602458628, 0.0014470852686221392, 0.0014162900811403034, 0.0014105218161102329, 0.0014102319046269685, 0.0014100472691360721, 0.001409337073413397, 0.0014079928185104507, 0.001405804651043674, 0.0014052116371541246, 0.001403353703497423, 0.0014031015226105836, 0.0014030840925611798, 0.0014030837196097323, 0.001403083611132061, 0.0014030836083716025, 0.001403083606795974, 0.0014030836054850226, 0.0014030836023088966, 0.0014030835951635012, 0.001403083584882836, 0.0014030835815965759, 0.0014030835756022597, 0.0014030835734146763, 0.0014030835733249702, 0.0014030835732379288, 0.0014030835731615454, 0.0014030835731455582, 0.0014030835731349, 0.0014030835731322355]\n"
          ]
        }
      ],
      "source": [
        "# Summarize the model over the training set and print out some metrics\n",
        "trainingSummary = lrModel2.summary\n",
        "print(\"numIterations: %d\" % trainingSummary.totalIterations)\n",
        "print(\"objectiveHistory: %s\" % str(trainingSummary.objectiveHistory))\n"
      ]
    },
    {
      "cell_type": "markdown",
      "metadata": {
        "id": "P2y3WiiSuQvo"
      },
      "source": [
        "We see that our models have converged"
      ]
    },
    {
      "cell_type": "code",
      "execution_count": null,
      "metadata": {
        "colab": {
          "background_save": true
        },
        "id": "PCuqfNF3hY4X",
        "outputId": "420f9fc5-3865-428b-9a34-1a163384ad8f"
      },
      "outputs": [
        {
          "name": "stdout",
          "output_type": "stream",
          "text": [
            "+-------------------+\n",
            "|          residuals|\n",
            "+-------------------+\n",
            "|  5.777647564717654|\n",
            "|   4.72930962493183|\n",
            "|-2.4044077598252898|\n",
            "| 7.7738838489558475|\n",
            "| 11.610442556899898|\n",
            "| -4.739739282393884|\n",
            "|-0.8928622852431545|\n",
            "|  5.280785441276748|\n",
            "| 5.3888066023346255|\n",
            "| -4.130021139217433|\n",
            "|  4.603576923054106|\n",
            "| 13.571093851968499|\n",
            "|-12.987913900339208|\n",
            "|  5.045282073292356|\n",
            "| -2.957181562130245|\n",
            "|  1.640345005719837|\n",
            "| 1.7250494350805639|\n",
            "| 3.4469795458689987|\n",
            "|  10.78055742821789|\n",
            "|  -6.93844245206401|\n",
            "+-------------------+\n",
            "only showing top 20 rows\n",
            "\n",
            "RMSE: 18.160290\n",
            "r2: 0.997194\n"
          ]
        }
      ],
      "source": [
        "trainingSummary.residuals.show()\n",
        "print(\"RMSE: %f\" % trainingSummary.rootMeanSquaredError)\n",
        "print(\"r2: %f\" % trainingSummary.r2)"
      ]
    },
    {
      "cell_type": "markdown",
      "metadata": {
        "id": "jbYHT0WSuT-J"
      },
      "source": [
        "We See that our R2 is quite high which indicates that the prices is potentially well fitted"
      ]
    },
    {
      "cell_type": "markdown",
      "metadata": {
        "id": "8f7eIqV8uej_"
      },
      "source": [
        "Below we show the pipeline to get the prediction"
      ]
    },
    {
      "cell_type": "code",
      "execution_count": null,
      "metadata": {
        "colab": {
          "background_save": true
        },
        "id": "M-Tx6trafl2B",
        "outputId": "fd0fbf35-9a33-41d1-b58c-a14c86cc8357"
      },
      "outputs": [
        {
          "name": "stdout",
          "output_type": "stream",
          "text": [
            "+-----+----------+------------------+------------------+------------------+------------------+------------------+------------------+------------------+------------------+------------------+------------------+------------------+------------------+------------------+------------------+------------------+------------------+-------------+--------------------+------------------+\n",
            "|IdGas|       Day|     NationalPrice|             lag_1|             lag_2|             lag_3|             lag_4|             lag_5|             lag_6|             lag_7|             lag_8|             lag_9|            lag_10|            lag_11|            lag_12|            lag_13|            lag_14|            lag_15|    ohe_IdGas|            features|        prediction|\n",
            "+-----+----------+------------------+------------------+------------------+------------------+------------------+------------------+------------------+------------------+------------------+------------------+------------------+------------------+------------------+------------------+------------------+------------------+-------------+--------------------+------------------+\n",
            "|    1|2019-01-16|  1419.00581915846|1413.6034643322778|1407.1589618815897| 1421.156215621562| 1412.358559658224|  1401.01008492569|1399.1258158901644| 1393.984145764316| 1391.522306108442| 1388.583114150447|1407.5541222658442|1393.2947647951441|1386.5670557146002| 1395.504732607667|1394.9234472797305|1424.2279582366589|(6,[1],[1.0])|(9,[0,1,2,4],[141...|1413.2281715937424|\n",
            "|    1|2019-01-17| 1421.542105263158|  1419.00581915846|1413.6034643322778|1407.1589618815897| 1421.156215621562| 1412.358559658224|  1401.01008492569|1399.1258158901644| 1393.984145764316| 1391.522306108442| 1388.583114150447|1407.5541222658442|1393.2947647951441|1386.5670557146002| 1395.504732607667|1394.9234472797305|(6,[1],[1.0])|(9,[0,1,2,4],[141...|1416.8127956382261|\n",
            "|    1|2019-01-18|1417.5566502463055| 1421.542105263158|  1419.00581915846|1413.6034643322778|1407.1589618815897| 1421.156215621562| 1412.358559658224|  1401.01008492569|1399.1258158901644| 1393.984145764316| 1391.522306108442| 1388.583114150447|1407.5541222658442|1393.2947647951441|1386.5670557146002| 1395.504732607667|(6,[1],[1.0])|(9,[0,1,2,4],[142...|1419.9610580061308|\n",
            "|    1|2019-01-19|1425.4860821155185|1417.5566502463055| 1421.542105263158|  1419.00581915846|1413.6034643322778|1407.1589618815897| 1421.156215621562| 1412.358559658224|  1401.01008492569|1399.1258158901644| 1393.984145764316| 1391.522306108442| 1388.583114150447|1407.5541222658442|1393.2947647951441|1386.5670557146002|(6,[1],[1.0])|(9,[0,1,2,4],[141...|1417.7121982665626|\n",
            "|    1|2019-01-20|1435.1342357586013|1425.4860821155185|1417.5566502463055| 1421.542105263158|  1419.00581915846|1413.6034643322778|1407.1589618815897| 1421.156215621562| 1412.358559658224|  1401.01008492569|1399.1258158901644| 1393.984145764316| 1391.522306108442| 1388.583114150447|1407.5541222658442|1393.2947647951441|(6,[1],[1.0])|(9,[0,1,2,4],[142...|1423.5237932017014|\n",
            "+-----+----------+------------------+------------------+------------------+------------------+------------------+------------------+------------------+------------------+------------------+------------------+------------------+------------------+------------------+------------------+------------------+------------------+-------------+--------------------+------------------+\n",
            "only showing top 5 rows\n",
            "\n"
          ]
        }
      ],
      "source": [
        "pipeline_reg = Pipeline(stages=[pipeline2, regression])\n",
        "pipeline_reg.fit(lagRegression_ddf).transform(lagRegression_ddf).show(5)"
      ]
    },
    {
      "cell_type": "code",
      "execution_count": null,
      "metadata": {
        "id": "tLr8bggNkKVA"
      },
      "outputs": [],
      "source": []
    }
  ],
  "metadata": {
    "colab": {
      "provenance": []
    },
    "kernelspec": {
      "display_name": "Python 3",
      "name": "python3"
    },
    "language_info": {
      "name": "python"
    }
  },
  "nbformat": 4,
  "nbformat_minor": 0
}